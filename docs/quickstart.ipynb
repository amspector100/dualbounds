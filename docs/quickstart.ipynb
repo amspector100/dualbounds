{
 "cells": [
  {
   "cell_type": "markdown",
   "id": "a483f4d7-39b9-41d3-9e1a-f464c767ba6b",
   "metadata": {},
   "source": [
    "# Quickstart"
   ]
  },
  {
   "cell_type": "markdown",
   "id": "b8d86070-471a-4390-9ab2-821a567692db",
   "metadata": {},
   "source": [
    "The main class in the package is ``dualbounds.generic.DualBounds``, which computes dual bounds on a partially identified estimand of the form"
   ]
  },
  {
   "cell_type": "markdown",
   "id": "66741f3e-dc0f-4c10-ae11-ba9b74280166",
   "metadata": {},
   "source": [
    "$$\\theta = E[f(Y(0), Y(1), X)]. $$"
   ]
  },
  {
   "cell_type": "markdown",
   "id": "aef03b64-6f34-4f04-9e5e-9dd76d3c3169",
   "metadata": {},
   "source": [
    "<!--For example, when $f(Y(0), Y(1), X) = \\mathbb{I}(Y(0) < Y(1))$, $\\theta$ is the proportion of individuals who benefit from the treatment. Such estimands are *partially identified* because we never observe the joint law of the potential outcomes, but the data still contains information on the law of $(Y(0), X)$ and $(Y(1), X)$, allowing us to *bound* $\\theta$.-->"
   ]
  },
  {
   "cell_type": "markdown",
   "id": "296e2f93-808d-49f7-a98c-3caec68c9b2b",
   "metadata": {},
   "source": [
    "<!--Given covariates $X \\in \\mathbb{R}^{n \\times p}$, a treatment vector $W \\in \\{0,1\\}^n$, an outcome vector $y \\in \\mathbb{R}^n$, and (optional) propensity scores $\\pi_i \\in [0,1]^n$ where $\\pi = P(W_i = 1 \\mid X_i)$, the ``DualBounds`` class performs provably valid inference on $\\theta$ using one of a wide variety of machine learning models. -->\n",
    "\n",
    "Crucially, the confidence intervals produced by DualBounds are **always** valid in randomized experiments, even if the underlying machine learning model is arbitrarily misspecified."
   ]
  },
  {
   "cell_type": "code",
   "execution_count": 1,
   "id": "2a0f7767-7d2b-46b6-be6d-b732bd5b9adc",
   "metadata": {},
   "outputs": [
    {
     "ename": "ModuleNotFoundError",
     "evalue": "No module named 'dualbounds.generic'",
     "output_type": "error",
     "traceback": [
      "\u001b[0;31m---------------------------------------------------------------------------\u001b[0m",
      "\u001b[0;31mModuleNotFoundError\u001b[0m                       Traceback (most recent call last)",
      "Cell \u001b[0;32mIn[1], line 5\u001b[0m\n\u001b[1;32m      3\u001b[0m \u001b[38;5;28;01mimport\u001b[39;00m \u001b[38;5;21;01mnumpy\u001b[39;00m \u001b[38;5;28;01mas\u001b[39;00m \u001b[38;5;21;01mnp\u001b[39;00m\n\u001b[1;32m      4\u001b[0m \u001b[38;5;28;01mimport\u001b[39;00m \u001b[38;5;21;01mdualbounds\u001b[39;00m \u001b[38;5;28;01mas\u001b[39;00m \u001b[38;5;21;01mdb\u001b[39;00m\n\u001b[0;32m----> 5\u001b[0m \u001b[38;5;28;01mfrom\u001b[39;00m \u001b[38;5;21;01mdualbounds\u001b[39;00m\u001b[38;5;21;01m.\u001b[39;00m\u001b[38;5;21;01mgeneric\u001b[39;00m \u001b[38;5;28;01mimport\u001b[39;00m DualBounds\n\u001b[1;32m      7\u001b[0m \u001b[38;5;66;03m# Generate synthetic data from a heavy-tailed linear model\u001b[39;00m\n\u001b[1;32m      8\u001b[0m data \u001b[38;5;241m=\u001b[39m db\u001b[38;5;241m.\u001b[39mgen_data\u001b[38;5;241m.\u001b[39mgen_regression_data(\n\u001b[1;32m      9\u001b[0m     n\u001b[38;5;241m=\u001b[39m\u001b[38;5;241m900\u001b[39m, \u001b[38;5;66;03m# Num. datapoints\u001b[39;00m\n\u001b[1;32m     10\u001b[0m     p\u001b[38;5;241m=\u001b[39m\u001b[38;5;241m30\u001b[39m, \u001b[38;5;66;03m# Num. covariates\u001b[39;00m\n\u001b[0;32m   (...)\u001b[0m\n\u001b[1;32m     15\u001b[0m     sample_seed\u001b[38;5;241m=\u001b[39m\u001b[38;5;241m123\u001b[39m, \u001b[38;5;66;03m# random seed\u001b[39;00m\n\u001b[1;32m     16\u001b[0m )\n",
      "\u001b[0;31mModuleNotFoundError\u001b[0m: No module named 'dualbounds.generic'"
     ]
    }
   ],
   "source": [
    "# Import packages\n",
    "import sys; sys.path.insert(0, \"../../\")\n",
    "import numpy as np\n",
    "import dualbounds as db\n",
    "from dualbounds.generic import DualBounds\n",
    "\n",
    "# Generate synthetic data from a heavy-tailed linear model\n",
    "data = db.gen_data.gen_regression_data(\n",
    "    n=900, # Num. datapoints\n",
    "    p=30, # Num. covariates\n",
    "    r2=0.95, # population R^2\n",
    "    tau=3, # average treatment effect\n",
    "    interactions=True, # ensures treatment effect is heterogenous\n",
    "    eps_dist='laplace', # heavy-tailed residuals\n",
    "    sample_seed=123, # random seed\n",
    ")\n",
    "\n",
    "# Initialize dual bounds object\n",
    "dbnd = DualBounds(\n",
    "    f=lambda y0, y1, x: y0 < y1,\n",
    "    X=data['X'], # n x p covariate matrix\n",
    "    W=data['W'], # n-length treatment vector\n",
    "    y=data['y'], # n-length outcome vector\n",
    "    pis=data['pis'], # n-length propensity scores (optional)\n",
    "    Y_model='ridge', # model for Y | X, W\n",
    ")\n",
    "\n",
    "# Compute dual bounds and observe output\n",
    "dbnd.fit(\n",
    "    alpha=0.05 # nominal level\n",
    ").results()"
   ]
  },
  {
   "cell_type": "markdown",
   "id": "f57215d6-7e82-44d5-8aa9-327e349381df",
   "metadata": {},
   "source": [
    "Note that there are two estimates---both a lower and an upper estimate---because the estimand is not identified."
   ]
  }
 ],
 "metadata": {
  "kernelspec": {
   "display_name": "Python 3 (ipykernel)",
   "language": "python",
   "name": "python3"
  },
  "language_info": {
   "codemirror_mode": {
    "name": "ipython",
    "version": 3
   },
   "file_extension": ".py",
   "mimetype": "text/x-python",
   "name": "python",
   "nbconvert_exporter": "python",
   "pygments_lexer": "ipython3",
   "version": "3.9.2"
  }
 },
 "nbformat": 4,
 "nbformat_minor": 5
}
