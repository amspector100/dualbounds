{
 "cells": [
  {
   "cell_type": "markdown",
   "id": "a483f4d7-39b9-41d3-9e1a-f464c767ba6b",
   "metadata": {},
   "source": [
    "# Quickstart"
   ]
  },
  {
   "cell_type": "markdown",
   "id": "b8d86070-471a-4390-9ab2-821a567692db",
   "metadata": {},
   "source": [
    "The main class in the package is ``dualbounds.generic.DualBounds``, which computes dual bounds on a partially identified estimand of the form"
   ]
  },
  {
   "cell_type": "markdown",
   "id": "66741f3e-dc0f-4c10-ae11-ba9b74280166",
   "metadata": {},
   "source": [
    "$$\\theta = E[f(Y(0), Y(1), X)] $$"
   ]
  },
  {
   "cell_type": "markdown",
   "id": "aef03b64-6f34-4f04-9e5e-9dd76d3c3169",
   "metadata": {},
   "source": [
    "For example, when $f(Y(0), Y(1), X) = \\mathbb{I}(Y(0) < Y(1))$, $\\theta$ is the proportion of individuals who benefit from the treatment. \n",
    "\n",
    "Given covariates $X \\in \\mathbb{R}^{n \\times p}$, a treatment vector $W \\in \\{0,1\\}^n$, an outcome vector $y \\in \\mathbb{R}^n$, and (optional) propensity scores $\\pi_i \\in [0,1]^n$ where $\\pi_i = P(W_i = 1 \\mid X_i)$, the ``DualBounds`` class makes it easy to perform provably valid inference on $\\theta$ using a wide variety of machine learning models, as shown below."
   ]
  },
  {
   "cell_type": "code",
   "execution_count": 69,
   "id": "2a0f7767-7d2b-46b6-be6d-b732bd5b9adc",
   "metadata": {},
   "outputs": [
    {
     "name": "stderr",
     "output_type": "stream",
     "text": [
      "100%|████████████████████████████████████████████████████████| 900/900 [00:01<00:00, 817.92it/s]\n"
     ]
    },
    {
     "data": {
      "text/plain": [
       "{'estimates': array([0.57745911, 0.92498299]),\n",
       " 'ses': array([0.02331765, 0.0129798 ]),\n",
       " 'cis': array([0.53175736, 0.95042292])}"
      ]
     },
     "execution_count": 69,
     "metadata": {},
     "output_type": "execute_result"
    }
   ],
   "source": [
    "# Import packages\n",
    "import sys; sys.path.insert(0, \"../../\")\n",
    "import numpy as np\n",
    "import dualbounds as db\n",
    "from dualbounds.generic import DualBounds\n",
    "\n",
    "# Generate synthetic data from a heavy-tailed linear model\n",
    "data = db.gen_data.gen_regression_data(\n",
    "    n=900, # Number of datapoints\n",
    "    p=30, # Dimensionality\n",
    "    r2=0.95, # population R^2\n",
    "    tau=3, # average treatment effect\n",
    "    interactions=True, # ensures treatment effect is heterogenous\n",
    "    eps_dist='laplace', # heavy-tailed residuals\n",
    "    sample_seed=123, # random seed\n",
    ")\n",
    "\n",
    "# Initialize dual bounds object\n",
    "dbnd = DualBounds(\n",
    "    f=lambda y0, y1, x: y0 < y1,#np.maximum(0, y1-y0),\n",
    "    X=data['X'], \n",
    "    W=data['W'],\n",
    "    y=data['Y'],\n",
    "    pis=data['pis'], # propensity scores\n",
    "    #Y_model=db.dist_reg.RidgeDistReg, # model for Y | X, W\n",
    ")\n",
    "\n",
    "# Compute dual bounds and observe output\n",
    "dbnd.compute_dual_bounds()"
   ]
  }
 ],
 "metadata": {
  "kernelspec": {
   "display_name": "Python 3 (ipykernel)",
   "language": "python",
   "name": "python3"
  },
  "language_info": {
   "codemirror_mode": {
    "name": "ipython",
    "version": 3
   },
   "file_extension": ".py",
   "mimetype": "text/x-python",
   "name": "python",
   "nbconvert_exporter": "python",
   "pygments_lexer": "ipython3",
   "version": "3.9.2"
  }
 },
 "nbformat": 4,
 "nbformat_minor": 5
}
