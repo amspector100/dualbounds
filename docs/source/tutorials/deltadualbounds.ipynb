{
 "cells": [
  {
   "cell_type": "markdown",
   "id": "7b271090-0a44-41c9-87b6-868eccf242e8",
   "metadata": {},
   "source": [
    "# Generalized ``DeltaDualBounds``"
   ]
  },
  {
   "cell_type": "markdown",
   "id": "c641405a-1659-4d2a-8c3c-6d2529b7d1a8",
   "metadata": {},
   "source": [
    "Using the delta method, dual bounds can also be used to upper and lower bound estimands of the form"
   ]
  },
  {
   "cell_type": "markdown",
   "id": "ff5a8f3e-ae68-4eb5-8711-d162120536fc",
   "metadata": {},
   "source": [
    "$$\\theta = h(E[f(Y(0), Y(1), X)], E[z_1(Y(1), X)], E[z_0(Y(0), X)]) $$"
   ]
  },
  {
   "cell_type": "markdown",
   "id": "e504da88-dcdc-4c4c-b6f7-ab1572f121fd",
   "metadata": {},
   "source": [
    "where $h$ is a continuous function that is nondecreasing in its first input, $f$ is a real-valued function, and $z_1$ and $z_0$ are potentially vector-valued functions."
   ]
  },
  {
   "cell_type": "markdown",
   "id": "fa7f690a-05a5-4f13-a2a5-f759eb2aaabb",
   "metadata": {},
   "source": [
    "Using the ``dualbounds.delta.DeltaDualBounds`` class, one merely has to specify the functions $h$, $z_0$, $z_1$, and $f$. Then, one can compute dual bounds on these quantities using the same API as the ``DualBounds`` class."
   ]
  },
  {
   "cell_type": "markdown",
   "id": "acd1a39a-c2da-4e9c-b6f3-3cd7ca019355",
   "metadata": {},
   "source": [
    "For example, the following code shows how to compute dual bounds on the quantity:"
   ]
  },
  {
   "cell_type": "markdown",
   "id": "339f763e-c927-4079-b9c0-55d03e2c1f8f",
   "metadata": {},
   "source": [
    "$$\\theta = \\frac{E[\\max(Y(1), Y(0))]}{E[Y(0)^2]} + E[Y(1)] \\cdot E[X_1].$$"
   ]
  },
  {
   "cell_type": "code",
   "execution_count": 1,
   "id": "12afe4d5-1cd2-464a-8fe7-650a7bf3843d",
   "metadata": {},
   "outputs": [],
   "source": [
    "# Import packages\n",
    "import sys; sys.path.insert(0, \"../../../\")\n",
    "import numpy as np\n",
    "import dualbounds as db\n",
    "from dualbounds.generic import DualBounds\n",
    "\n",
    "# Synthetic data\n",
    "data = db.gen_data.gen_regression_data(\n",
    "    n=500, p=30, dgp_seed=1, sample_seed=1\n",
    ")"
   ]
  },
  {
   "cell_type": "code",
   "execution_count": 2,
   "id": "d3c2981c-5966-4a92-804e-7bc251623572",
   "metadata": {},
   "outputs": [
    {
     "name": "stdout",
     "output_type": "stream",
     "text": [
      "Cross-fitting the outcome model.\n"
     ]
    },
    {
     "data": {
      "application/vnd.jupyter.widget-view+json": {
       "model_id": "1f703c0dd2fd40338e3eefca30fa7ddb",
       "version_major": 2,
       "version_minor": 0
      },
      "text/plain": [
       "  0%|          | 0/5 [00:00<?, ?it/s]"
      ]
     },
     "metadata": {},
     "output_type": "display_data"
    },
    {
     "name": "stdout",
     "output_type": "stream",
     "text": [
      "Estimating optimal dual variables.\n"
     ]
    },
    {
     "data": {
      "application/vnd.jupyter.widget-view+json": {
       "model_id": "bd6760dd81b243c180bcb4d23dd3606f",
       "version_major": 2,
       "version_minor": 0
      },
      "text/plain": [
       "  0%|          | 0/500 [00:00<?, ?it/s]"
      ]
     },
     "metadata": {},
     "output_type": "display_data"
    },
    {
     "name": "stdout",
     "output_type": "stream",
     "text": [
      "|            |      Lower |    Upper |\n",
      "|:-----------|-----------:|---------:|\n",
      "| Estimate   |  0.263098  | 0.280716 |\n",
      "| SE         |  0.149856  | 0.151063 |\n",
      "| Conf. Int. | -0.0306139 | 0.576795 |\n"
     ]
    }
   ],
   "source": [
    "# Fit delta dual bounds\n",
    "delta_db = db.delta.DeltaDualBounds(\n",
    "    # input arbitrary functions\n",
    "    h=lambda fval, z1, z0: fval / z0 + z1[0] * z1[1],\n",
    "    z1=lambda y1, x: np.array([y1, x[0]]),\n",
    "    z0=lambda y0, x: y0**2,\n",
    "    f=lambda y0, y1, x: np.maximum(y1, y0),\n",
    "    # input data\n",
    "    outcome=data['y'],\n",
    "    treatment=data['W'], \n",
    "    covariates=data['X'],\n",
    "    propensities=data['pis'],\n",
    "    # outcome model\n",
    "    outcome_model='ridge',\n",
    ")\n",
    "delta_db.fit()\n",
    "print(delta_db.results().to_markdown())"
   ]
  }
 ],
 "metadata": {
  "kernelspec": {
   "display_name": "Python 3 (ipykernel)",
   "language": "python",
   "name": "python3"
  },
  "language_info": {
   "codemirror_mode": {
    "name": "ipython",
    "version": 3
   },
   "file_extension": ".py",
   "mimetype": "text/x-python",
   "name": "python",
   "nbconvert_exporter": "python",
   "pygments_lexer": "ipython3",
   "version": "3.11.2"
  }
 },
 "nbformat": 4,
 "nbformat_minor": 5
}
