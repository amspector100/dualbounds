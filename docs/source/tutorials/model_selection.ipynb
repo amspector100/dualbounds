{
 "cells": [
  {
   "cell_type": "markdown",
   "id": "1a189812-274d-4e21-ac4a-e1cb4e1a0fd3",
   "metadata": {},
   "source": [
    "# Model selection"
   ]
  },
  {
   "cell_type": "markdown",
   "id": "19d5ac27-1036-4203-99ac-d87ad1ad0ac4",
   "metadata": {},
   "source": [
    "``dualbounds`` comes equipped with three methods for selecting a good choice of outcome model, yielding tight and valid confidence bounds. Our recommendations are summarized below:"
   ]
  },
  {
   "cell_type": "markdown",
   "id": "d7a85d26-037d-4ea6-bd72-739f3e27d3a1",
   "metadata": {},
   "source": [
    "1. Use the multiplier bootstrap if (a) the data come from a randomized experiments and (b) one plans to use a ``DualBounds`` or ``DualIVBounds`` class.\n",
    "2. Within-fold model selection by cross-validation is recommended in all other scenarios (particularly observational studies).\n",
    "3. One can also define customized model selectors using different metrics. However, this is not our recommended approach."
   ]
  },
  {
   "cell_type": "markdown",
   "id": "b1328bc4-eb46-442a-be4f-ce187d77e47c",
   "metadata": {},
   "source": [
    "## Method 1: the multiplier bootstrap"
   ]
  },
  {
   "cell_type": "markdown",
   "id": "2dea1b4a-e5b5-4e36-91bf-c76694d0e38a",
   "metadata": {},
   "source": [
    "In randomized experiments, ``DualBounds`` produces valid confidence intervals under arbitrary misspecification of the outcome model, meaning that the analyst can try many different outcome models to see which produces the tightest bounds. The multiplier bootstrap provides a principled way to combine evidence across many different estimates while retaining rigorous coverage guarantees for the final confidence interval (i.e., accounting for multiplicity)."
   ]
  },
  {
   "cell_type": "markdown",
   "id": "cb22e4ac-7c4c-4b81-874e-1a48f6edd6b9",
   "metadata": {},
   "source": [
    "Below, we show how to do this in challenging setting with heteroskedasticity."
   ]
  },
  {
   "cell_type": "code",
   "execution_count": 1,
   "id": "d883bcd9-def1-4275-9e73-78826287ec72",
   "metadata": {},
   "outputs": [],
   "source": [
    "# Import packages\n",
    "import sys; sys.path.insert(0, \"../../../\")\n",
    "import numpy as np\n",
    "import dualbounds as db\n",
    "from dualbounds.generic import DualBounds\n",
    "# Generate synthetic data from a linear model with heteroskedasticity\n",
    "data = db.gen_data.gen_regression_data(\n",
    "    n=900, # Num. datapoints\n",
    "    p=30, # Num. covariates\n",
    "    tauv=0.2,\n",
    "    interactions=True, # ensures treatment effect is heterogenous\n",
    "    heterosked='exp_linear', # Pattern of heteroskedasticity\n",
    "    eps_dist='laplace',\n",
    "    sample_seed=123, # random seed\n",
    ")"
   ]
  },
  {
   "cell_type": "markdown",
   "id": "8ed1a282-c8de-455c-a344-4a0d163d29db",
   "metadata": {},
   "source": [
    "First, we compute dual bounds based on several different choices of outcome model."
   ]
  },
  {
   "cell_type": "code",
   "execution_count": 2,
   "id": "ba70447d-541f-44e9-984d-519eb56f4e8d",
   "metadata": {},
   "outputs": [
    {
     "name": "stdout",
     "output_type": "stream",
     "text": [
      "Fitting outcome_model=ridge, heterosked_model=none.\n",
      "Fitting outcome_model=ridge, heterosked_model=lasso.\n",
      "Fitting outcome_model=ridge, heterosked_model=rf.\n",
      "Fitting outcome_model=rf, heterosked_model=none.\n",
      "Fitting outcome_model=rf, heterosked_model=lasso.\n",
      "Fitting outcome_model=rf, heterosked_model=rf.\n"
     ]
    }
   ],
   "source": [
    "# Nominal level\n",
    "alpha = 0.1\n",
    "# List of dualbounds objects\n",
    "db_objects = []\n",
    "widths = []\n",
    "Y_models = ['ridge', 'rf']\n",
    "heterosked_models = ['none', 'lasso', 'rf']\n",
    "model_names = []\n",
    "for Y_model in Y_models:\n",
    "    for heterosked_model in heterosked_models:\n",
    "        print(f\"Fitting outcome_model={Y_model}, heterosked_model={heterosked_model}.\")\n",
    "        gdb = DualBounds(\n",
    "            # data\n",
    "            outcome=data['y'],\n",
    "            treatment=data['W'], \n",
    "            covariates=data['X'],\n",
    "            propensities=data['pis'],\n",
    "            # estimand\n",
    "            f=lambda y0, y1, x: y0 < y1,\n",
    "            # models\n",
    "            outcome_model=Y_model,\n",
    "            heterosked_model=heterosked_model,\n",
    "            eps_dist='laplace',\n",
    "        )\n",
    "        gdb.fit(nfolds=3, alpha=alpha, verbose=False)\n",
    "        db_objects.append(gdb)\n",
    "        widths.append(gdb.cis[1] - gdb.cis[0])\n",
    "        model_names.append(f'Y_model={Y_model}\\nHeterosked={heterosked_model}')"
   ]
  },
  {
   "cell_type": "markdown",
   "id": "738929ce-6df5-47b0-a7ac-116083374a82",
   "metadata": {},
   "source": [
    "Second, we aggregate the bounds using the multiplier bootstrap."
   ]
  },
  {
   "cell_type": "code",
   "execution_count": 3,
   "id": "801374ca-cbec-4b6c-90f7-d6b39cf9042a",
   "metadata": {},
   "outputs": [
    {
     "name": "stdout",
     "output_type": "stream",
     "text": [
      "|            |    Lower |    Upper |\n",
      "|:-----------|---------:|---------:|\n",
      "| Estimate   | 0.702693 | 0.867295 |\n",
      "| Conf. Int. | 0.65669  | 0.902071 |\n"
     ]
    }
   ],
   "source": [
    "bootstrap_output = db.bootstrap.dualbound_multiplier_bootstrap(\n",
    "    db_objects, alpha=alpha\n",
    ")\n",
    "print(bootstrap_output.to_markdown())"
   ]
  },
  {
   "cell_type": "markdown",
   "id": "cd0784cd-feea-4fe9-82cc-bafcbdddda17",
   "metadata": {},
   "source": [
    "We can see that the bootstrap output width is nearly equal to the smallest width among all methods."
   ]
  },
  {
   "cell_type": "code",
   "execution_count": 4,
   "id": "a6e9116e-f090-4084-a6ad-c9798fa8ddbc",
   "metadata": {},
   "outputs": [
    {
     "data": {
      "image/png": "[encoded data removed]",
      "text/plain": [
       "<Figure size 1000x500 with 1 Axes>"
      ]
     },
     "metadata": {},
     "output_type": "display_data"
    }
   ],
   "source": [
    "import matplotlib.pyplot as plt\n",
    "fig, ax = plt.subplots(figsize=(10, 5))\n",
    "bootstrap_width = bootstrap_output.values[1, 1] \n",
    "bootstrap_width -= bootstrap_output.values[1, 0]\n",
    "ax.scatter(model_names, widths, color='black')\n",
    "ax.axhline(\n",
    "    bootstrap_width, \n",
    "    label='Width of Multiplier Boostrap Confidence Interval', \n",
    "    color='red',\n",
    "    linestyle='dashed',\n",
    ")\n",
    "ax.set(ylabel=\"Width of confidence interval\")\n",
    "ax.legend()\n",
    "plt.show()"
   ]
  },
  {
   "cell_type": "markdown",
   "id": "96228a79-d787-4729-a040-3a06b639d9c6",
   "metadata": {},
   "source": [
    "## Method 2: Within-fold model selection via cross-validation"
   ]
  },
  {
   "cell_type": "markdown",
   "id": "8c30e4f6-1b91-4169-8a3c-68368b34a4c5",
   "metadata": {},
   "source": [
    "The multiplier bootstrap is computationally cheap and statistically powerful. However, it has two limitations:\n",
    "\n",
    "1. It is not appropriate in observational studies, where the validity of the final dual bounds may depend on the accuracy of the outcome model. Thus, in observational studies, the multiplier bootstrap could select a low-quality outcome model which yields misleadingly tight bounds.\n",
    "3. It only applies to ``DualBounds`` and ``DualIVBounds`` objects; it will not work with ``DeltaDualBounds`` objects."
   ]
  },
  {
   "cell_type": "markdown",
   "id": "13911317-4d98-421b-baea-76b7152f95e6",
   "metadata": {},
   "source": [
    "The default alternative in ``DualBounds`` is to use nested cross-validation. In particular, if one passes a ``DualBounds`` object a *list* of possible outcome models, on each fold it will pick the model with the lowest cross-validated prediction error."
   ]
  },
  {
   "cell_type": "markdown",
   "id": "05f53e0f-947a-440c-a903-88147edf08a7",
   "metadata": {},
   "source": [
    "Below, we consider a simple example where we are choosing between a ridge and random forest. The model selection procedure automatically achieves the performance of the best model (in this case the ridge regression)."
   ]
  },
  {
   "cell_type": "code",
   "execution_count": 5,
   "id": "2f666586-5df3-4b2f-bbfe-4487f965de3f",
   "metadata": {},
   "outputs": [],
   "source": [
    "# Generate synthetic data from a linear model\n",
    "data = db.gen_data.gen_regression_data(n=300, p=20, r2=0.5, tau=0)\n",
    "# Common arguments for each DualBounds class\n",
    "db_args = dict(\n",
    "    # Define the estimand as E[Y(1) - Y(0) | Y(0) > 0].\n",
    "    f=lambda y0, y1, x: (y1 - y0) * (y0 > 0),\n",
    "    h=lambda fval, z0, z1: fval / z0,\n",
    "    z0=lambda y0, x: (y0 > 0).astype(float),\n",
    "    z1=lambda y1, x: 0,\n",
    "    # Input the data\n",
    "    outcome=data['y'], \n",
    "    covariates=data['X'], \n",
    "    treatment=data['W'],\n",
    ")\n",
    "# Use model selection to pick between ridge and random forest\n",
    "gdb_selected = db.delta.DeltaDualBounds(**db_args, outcome_model=['ridge', 'rf']).fit(verbose=False)\n",
    "# Compare to ridge and random forest alone\n",
    "gdb_ridge = db.delta.DeltaDualBounds(**db_args, outcome_model='ridge').fit(verbose=False)\n",
    "gdb_rf = db.delta.DeltaDualBounds(**db_args, outcome_model='rf').fit(verbose=False)"
   ]
  },
  {
   "cell_type": "code",
   "execution_count": 6,
   "id": "42dcd4a4-cd30-4854-8f68-de93064962fb",
   "metadata": {},
   "outputs": [
    {
     "name": "stdout",
     "output_type": "stream",
     "text": [
      "The performance of the model selection procedure is:\n",
      "|                   |    Model |   No covariates |\n",
      "|:------------------|---------:|----------------:|\n",
      "| Out-of-sample R^2 | 0.326337 |         0       |\n",
      "| RMSE              | 1.06393  |         1.29626 |\n",
      "| MAE               | 0.84449  |         1.0484  |\n",
      "The performance of the ridge is:\n",
      "|                   |    Model |   No covariates |\n",
      "|:------------------|---------:|----------------:|\n",
      "| Out-of-sample R^2 | 0.326337 |         0       |\n",
      "| RMSE              | 1.06393  |         1.29626 |\n",
      "| MAE               | 0.84449  |         1.0484  |\n",
      "The performance of the random forest is:\n",
      "|                   |    Model |   No covariates |\n",
      "|:------------------|---------:|----------------:|\n",
      "| Out-of-sample R^2 | 0.240912 |         0       |\n",
      "| RMSE              | 1.12938  |         1.29626 |\n",
      "| MAE               | 0.894703 |         1.0484  |\n"
     ]
    }
   ],
   "source": [
    "print(\"The performance of the model selection procedure is:\")\n",
    "print(gdb_selected.eval_outcome_model().to_markdown())\n",
    "print(\"The performance of the ridge is:\")\n",
    "print(gdb_ridge.eval_outcome_model().to_markdown())\n",
    "print(\"The performance of the random forest is:\")\n",
    "print(gdb_rf.eval_outcome_model().to_markdown())"
   ]
  },
  {
   "cell_type": "markdown",
   "id": "ac43b73c-19c5-42fd-9732-98cb69f272a9",
   "metadata": {},
   "source": [
    "<div class=\"alert alert-block alert-info\"> <b>Note: \"Within-fold\" cross validation means that DualBounds will perform cross validation separately for each fold of the data. For example, when using nfolds=5, DualBounds will perform cross-validation 5 separate times. Although this can be computationally expensive on large datasets, it is important to prevent overfitting and ensure the final bounds are valid.</b> </div>"
   ]
  },
  {
   "cell_type": "markdown",
   "id": "7cd556e0-f9a8-41ec-96d5-e3a73e5247d5",
   "metadata": {},
   "source": [
    "## Method 3: Custom within-fold model selection"
   ]
  },
  {
   "cell_type": "markdown",
   "id": "e9f41bcb-cc37-4639-ab6a-2d92016f967f",
   "metadata": {},
   "source": [
    "``dualbounds`` can flexibly wrap around many other types of model selection procedures. In particular, an abbreviated outline of the ``dualbounds`` algorithm is:"
   ]
  },
  {
   "cell_type": "markdown",
   "id": "0fca225d-595e-4d0e-9892-2b810f3f5954",
   "metadata": {},
   "source": [
    "1. Split the data into $K$ disjoint folds $[n] = D_1 \\cup \\dots \\cup D_K$.\n",
    "2. For $k \\in [K]$:\n",
    "   1. Fit an outcome model on every fold of data except $D_k$.\n",
    "   2. Evaluate the outcome model out-of-sample on $D_k$ and convert its predictions into dual bounds."
   ]
  },
  {
   "cell_type": "markdown",
   "id": "ad32bb60-50dc-4fcf-abf9-578300aa18c1",
   "metadata": {},
   "source": [
    "Given a set of potential outcome models, in Step 2(a), one can use any model selection procedure to choose between them, as long as they do not \"cheat\" by looking at the held-out fold $D_k$. We recommend using nested-cross validation, but users can implement any other model selection metric they like by wrapping the ``db.dist_reg.ModelSelector`` class."
   ]
  },
  {
   "cell_type": "markdown",
   "id": "f2b7a293-fffc-4b50-8dd9-cf67a917fed0",
   "metadata": {},
   "source": [
    "For example, below, we consider the following model selection procedure: in Step 2(a), we re-run the entire dual-bounds procedure  and pick the outcome model which yields the tightest bounds."
   ]
  },
  {
   "cell_type": "markdown",
   "id": "2d58a0eb-fd42-4c70-8b0d-30839808d1e3",
   "metadata": {},
   "source": [
    "We now show how to use this approach when estimating (e.g.) the Variance of the ITE. The main step is to define a custom ModelSelector class with a ``select_model`` method, as shown below. It is important that the ``select_model`` class has exactly this signature."
   ]
  },
  {
   "cell_type": "code",
   "execution_count": 7,
   "id": "62595358-606d-4b8e-beb0-7783f7f6419a",
   "metadata": {},
   "outputs": [],
   "source": [
    "from typing import Optional\n",
    "class VarITEModelSelector(db.dist_reg.ModelSelector):\n",
    "    \n",
    "    def select_model(\n",
    "        self,\n",
    "        models: list[db.dist_reg.DistReg],\n",
    "        W: np.array,\n",
    "        X: np.array,\n",
    "        y: np.array,\n",
    "        Z: Optional[np.array]=None,\n",
    "        sample_weight: Optional[np.array]=None,\n",
    "        propensities: Optional[np.array]=None,\n",
    "        **kwargs\n",
    "    ) -> db.dist_reg.DistReg:\n",
    "        \"\"\"\n",
    "        Selects one among many DistReg models.\n",
    "        \"\"\"\n",
    "        # Print\n",
    "        print(\"Selecting model for VarITE.\")\n",
    "        # for each model, fit VarITEDualBounds and select the model\n",
    "        # which produces the tightest bounds.\n",
    "        widths = np.zeros(len(models))\n",
    "        for i, model in enumerate(models):\n",
    "            vdb = db.varite.VarITEDualBounds(\n",
    "                outcome=y, covariates=X, treatment=W, propensities=propensities,\n",
    "                outcome_model=model,\n",
    "            )\n",
    "            vdb.fit(nfolds=5, verbose=False)\n",
    "            widths[i] = vdb.cis[1] - vdb.cis[0]\n",
    "        # Select the tightest lower bound\n",
    "        jopt = np.argmax(widths)\n",
    "        return models[jopt]"
   ]
  },
  {
   "cell_type": "markdown",
   "id": "68afb6df-24ce-484a-9f34-64dc9d7ff976",
   "metadata": {},
   "source": [
    "Once we have defined the ModelSelector, we can simply pass it to a parent ``VarITEDualBounds`` object and let it choose between the various outcome models."
   ]
  },
  {
   "cell_type": "code",
   "execution_count": 8,
   "id": "b829e20e-ee45-4366-b404-4da063ce0278",
   "metadata": {},
   "outputs": [
    {
     "name": "stdout",
     "output_type": "stream",
     "text": [
      "Cross-fitting the outcome model.\n"
     ]
    },
    {
     "data": {
      "application/vnd.jupyter.widget-view+json": {
       "model_id": "49061d596bc94459b7e76cf36b679561",
       "version_major": 2,
       "version_minor": 0
      },
      "text/plain": [
       "  0%|          | 0/5 [00:00<?, ?it/s]"
      ]
     },
     "metadata": {},
     "output_type": "display_data"
    },
    {
     "name": "stdout",
     "output_type": "stream",
     "text": [
      "Selecting model for VarITE.\n",
      "Selecting model for VarITE.\n",
      "Selecting model for VarITE.\n",
      "Selecting model for VarITE.\n",
      "Selecting model for VarITE.\n",
      "Estimating optimal dual variables.\n"
     ]
    },
    {
     "data": {
      "application/vnd.jupyter.widget-view+json": {
       "model_id": "e95aa6bcc9ea4530b00b711de3e9aa22",
       "version_major": 2,
       "version_minor": 0
      },
      "text/plain": [
       "  0%|          | 0/300 [00:00<?, ?it/s]"
      ]
     },
     "metadata": {},
     "output_type": "display_data"
    },
    {
     "name": "stdout",
     "output_type": "stream",
     "text": [
      "|            |    Lower |    Upper |\n",
      "|:-----------|---------:|---------:|\n",
      "| Estimate   | 0        | 5.7599   |\n",
      "| SE         | 0.748058 | 0.462774 |\n",
      "| Conf. Int. | 0        | 6.66692  |\n"
     ]
    }
   ],
   "source": [
    "data = db.gen_data.gen_regression_data(n=300, p=10, r2=0.5, interactions=False, sample_seed=123)\n",
    "\n",
    "import sklearn.ensemble\n",
    "vdb_parent = db.varite.VarITEDualBounds(\n",
    "    outcome=data['y'],\n",
    "    treatment=data['W'],\n",
    "    propensities=data['pis'],\n",
    "    covariates=data['X'],\n",
    "    # choose between 4 types of outcome models\n",
    "    outcome_model=[\n",
    "        db.dist_reg.CtsDistReg('lasso', how_transform='interactions'),\n",
    "        db.dist_reg.CtsDistReg('ridge', how_transform='interactions'),\n",
    "        db.dist_reg.CtsDistReg('lasso', how_transform='identity'),\n",
    "        db.dist_reg.CtsDistReg('knn', how_transform='identity', n_neighbors=50),\n",
    "    ],\n",
    "    model_selector=VarITEModelSelector(),\n",
    ")\n",
    "vdb_parent.fit(nfolds=5)\n",
    "print(vdb_parent.results().to_markdown())"
   ]
  },
  {
   "cell_type": "markdown",
   "id": "d7b53ecf-d4a0-401e-a276-bb387746e95c",
   "metadata": {},
   "source": [
    "One can see that the message \"Selecting model for VarITE\" is printed 5 times---this is because ``dualbounds`` is performing model selection separately for each fold of data. This leads to honest estimates that do not overfit, although it is computationally expensive for large datasets."
   ]
  }
 ],
 "metadata": {
  "kernelspec": {
   "display_name": "Python 3 (ipykernel)",
   "language": "python",
   "name": "python3"
  },
  "language_info": {
   "codemirror_mode": {
    "name": "ipython",
    "version": 3
   },
   "file_extension": ".py",
   "mimetype": "text/x-python",
   "name": "python",
   "nbconvert_exporter": "python",
   "pygments_lexer": "ipython3",
   "version": "3.11.2"
  }
 },
 "nbformat": 4,
 "nbformat_minor": 5
}
